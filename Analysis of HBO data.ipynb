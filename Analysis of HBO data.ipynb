{
 "cells": [
  {
   "cell_type": "code",
   "execution_count": 1,
   "id": "e103e5c1",
   "metadata": {},
   "outputs": [],
   "source": [
    "import numpy as np # linear algebra\n",
    "import pandas as pd # data processing, CSV file I/O (e.g. pd.read_csv)\n",
    "import matplotlib.pyplot as plt\n",
    "import seaborn as sns   "
   ]
  },
  {
   "cell_type": "code",
   "execution_count": 2,
   "id": "bdfdc533",
   "metadata": {},
   "outputs": [
    {
     "data": {
      "text/html": [
       "<div>\n",
       "<style scoped>\n",
       "    .dataframe tbody tr th:only-of-type {\n",
       "        vertical-align: middle;\n",
       "    }\n",
       "\n",
       "    .dataframe tbody tr th {\n",
       "        vertical-align: top;\n",
       "    }\n",
       "\n",
       "    .dataframe thead th {\n",
       "        text-align: right;\n",
       "    }\n",
       "</style>\n",
       "<table border=\"1\" class=\"dataframe\">\n",
       "  <thead>\n",
       "    <tr style=\"text-align: right;\">\n",
       "      <th></th>\n",
       "      <th>title</th>\n",
       "      <th>type</th>\n",
       "      <th>year</th>\n",
       "      <th>rating</th>\n",
       "      <th>imdb_score</th>\n",
       "      <th>rotten_score</th>\n",
       "      <th>decade</th>\n",
       "      <th>imdb_bucket</th>\n",
       "      <th>genres_Action_Adventure</th>\n",
       "      <th>genres_Animation</th>\n",
       "      <th>...</th>\n",
       "      <th>platforms_shudder</th>\n",
       "      <th>platforms_starz</th>\n",
       "      <th>platforms_sundancenow</th>\n",
       "      <th>platforms_syfy_tveverywhere</th>\n",
       "      <th>platforms_tbs</th>\n",
       "      <th>platforms_tnt</th>\n",
       "      <th>platforms_trutv_tveverywhere</th>\n",
       "      <th>platforms_urbanmoviechannel</th>\n",
       "      <th>platforms_velocity_go</th>\n",
       "      <th>platforms_watch_tcm</th>\n",
       "    </tr>\n",
       "  </thead>\n",
       "  <tbody>\n",
       "    <tr>\n",
       "      <th>0</th>\n",
       "      <td>Game of Thrones</td>\n",
       "      <td>TV</td>\n",
       "      <td>2011</td>\n",
       "      <td>R/TV-MA</td>\n",
       "      <td>9.3</td>\n",
       "      <td>89.0</td>\n",
       "      <td>2010-2019</td>\n",
       "      <td>9.01-9.50</td>\n",
       "      <td>1</td>\n",
       "      <td>0</td>\n",
       "      <td>...</td>\n",
       "      <td>0</td>\n",
       "      <td>0</td>\n",
       "      <td>0</td>\n",
       "      <td>0</td>\n",
       "      <td>0</td>\n",
       "      <td>0</td>\n",
       "      <td>0</td>\n",
       "      <td>0</td>\n",
       "      <td>0</td>\n",
       "      <td>0</td>\n",
       "    </tr>\n",
       "    <tr>\n",
       "      <th>1</th>\n",
       "      <td>Rick and Morty</td>\n",
       "      <td>TV</td>\n",
       "      <td>2013</td>\n",
       "      <td>R/TV-MA</td>\n",
       "      <td>9.2</td>\n",
       "      <td>94.0</td>\n",
       "      <td>2010-2019</td>\n",
       "      <td>9.01-9.50</td>\n",
       "      <td>1</td>\n",
       "      <td>1</td>\n",
       "      <td>...</td>\n",
       "      <td>0</td>\n",
       "      <td>0</td>\n",
       "      <td>0</td>\n",
       "      <td>0</td>\n",
       "      <td>0</td>\n",
       "      <td>0</td>\n",
       "      <td>0</td>\n",
       "      <td>0</td>\n",
       "      <td>0</td>\n",
       "      <td>0</td>\n",
       "    </tr>\n",
       "    <tr>\n",
       "      <th>2</th>\n",
       "      <td>The Lord of the Rings: The Fellowship of the Ring</td>\n",
       "      <td>NaN</td>\n",
       "      <td>2001</td>\n",
       "      <td>PG-13/TV-14</td>\n",
       "      <td>8.8</td>\n",
       "      <td>91.0</td>\n",
       "      <td>2000-2009</td>\n",
       "      <td>8.51-9.00</td>\n",
       "      <td>1</td>\n",
       "      <td>0</td>\n",
       "      <td>...</td>\n",
       "      <td>0</td>\n",
       "      <td>0</td>\n",
       "      <td>0</td>\n",
       "      <td>0</td>\n",
       "      <td>0</td>\n",
       "      <td>0</td>\n",
       "      <td>0</td>\n",
       "      <td>0</td>\n",
       "      <td>0</td>\n",
       "      <td>0</td>\n",
       "    </tr>\n",
       "    <tr>\n",
       "      <th>3</th>\n",
       "      <td>Fight Club</td>\n",
       "      <td>NaN</td>\n",
       "      <td>1999</td>\n",
       "      <td>R/TV-MA</td>\n",
       "      <td>8.8</td>\n",
       "      <td>79.0</td>\n",
       "      <td>1990-1999</td>\n",
       "      <td>8.51-9.00</td>\n",
       "      <td>0</td>\n",
       "      <td>0</td>\n",
       "      <td>...</td>\n",
       "      <td>0</td>\n",
       "      <td>0</td>\n",
       "      <td>0</td>\n",
       "      <td>0</td>\n",
       "      <td>0</td>\n",
       "      <td>0</td>\n",
       "      <td>0</td>\n",
       "      <td>0</td>\n",
       "      <td>0</td>\n",
       "      <td>0</td>\n",
       "    </tr>\n",
       "    <tr>\n",
       "      <th>4</th>\n",
       "      <td>The Lord of the Rings: The Two Towers</td>\n",
       "      <td>NaN</td>\n",
       "      <td>2002</td>\n",
       "      <td>PG-13/TV-14</td>\n",
       "      <td>8.7</td>\n",
       "      <td>95.0</td>\n",
       "      <td>2000-2009</td>\n",
       "      <td>8.51-9.00</td>\n",
       "      <td>1</td>\n",
       "      <td>0</td>\n",
       "      <td>...</td>\n",
       "      <td>0</td>\n",
       "      <td>0</td>\n",
       "      <td>0</td>\n",
       "      <td>0</td>\n",
       "      <td>0</td>\n",
       "      <td>0</td>\n",
       "      <td>0</td>\n",
       "      <td>0</td>\n",
       "      <td>0</td>\n",
       "      <td>0</td>\n",
       "    </tr>\n",
       "  </tbody>\n",
       "</table>\n",
       "<p>5 rows × 75 columns</p>\n",
       "</div>"
      ],
      "text/plain": [
       "                                               title type  year       rating  \\\n",
       "0                                    Game of Thrones   TV  2011      R/TV-MA   \n",
       "1                                     Rick and Morty   TV  2013      R/TV-MA   \n",
       "2  The Lord of the Rings: The Fellowship of the Ring  NaN  2001  PG-13/TV-14   \n",
       "3                                         Fight Club  NaN  1999      R/TV-MA   \n",
       "4              The Lord of the Rings: The Two Towers  NaN  2002  PG-13/TV-14   \n",
       "\n",
       "   imdb_score  rotten_score     decade imdb_bucket  genres_Action_Adventure  \\\n",
       "0         9.3          89.0  2010-2019   9.01-9.50                        1   \n",
       "1         9.2          94.0  2010-2019   9.01-9.50                        1   \n",
       "2         8.8          91.0  2000-2009   8.51-9.00                        1   \n",
       "3         8.8          79.0  1990-1999   8.51-9.00                        0   \n",
       "4         8.7          95.0  2000-2009   8.51-9.00                        1   \n",
       "\n",
       "   genres_Animation  ...  platforms_shudder  platforms_starz  \\\n",
       "0                 0  ...                  0                0   \n",
       "1                 1  ...                  0                0   \n",
       "2                 0  ...                  0                0   \n",
       "3                 0  ...                  0                0   \n",
       "4                 0  ...                  0                0   \n",
       "\n",
       "   platforms_sundancenow  platforms_syfy_tveverywhere  platforms_tbs  \\\n",
       "0                      0                            0              0   \n",
       "1                      0                            0              0   \n",
       "2                      0                            0              0   \n",
       "3                      0                            0              0   \n",
       "4                      0                            0              0   \n",
       "\n",
       "   platforms_tnt  platforms_trutv_tveverywhere  platforms_urbanmoviechannel  \\\n",
       "0              0                             0                            0   \n",
       "1              0                             0                            0   \n",
       "2              0                             0                            0   \n",
       "3              0                             0                            0   \n",
       "4              0                             0                            0   \n",
       "\n",
       "   platforms_velocity_go  platforms_watch_tcm  \n",
       "0                      0                    0  \n",
       "1                      0                    0  \n",
       "2                      0                    0  \n",
       "3                      0                    0  \n",
       "4                      0                    0  \n",
       "\n",
       "[5 rows x 75 columns]"
      ]
     },
     "execution_count": 2,
     "metadata": {},
     "output_type": "execute_result"
    }
   ],
   "source": [
    "hbo = pd.read_csv(r'Downloads\\HBO_MAX_Content.csv')\n",
    "hbo.head()"
   ]
  },
  {
   "cell_type": "code",
   "execution_count": 3,
   "id": "f793155d",
   "metadata": {},
   "outputs": [
    {
     "data": {
      "text/plain": [
       "(2087, 75)"
      ]
     },
     "execution_count": 3,
     "metadata": {},
     "output_type": "execute_result"
    }
   ],
   "source": [
    "hbo.shape"
   ]
  },
  {
   "cell_type": "code",
   "execution_count": 4,
   "id": "5871b579",
   "metadata": {},
   "outputs": [
    {
     "data": {
      "text/plain": [
       "Index(['title', 'type', 'year', 'rating', 'imdb_score', 'rotten_score',\n",
       "       'decade', 'imdb_bucket', 'genres_Action_Adventure', 'genres_Animation',\n",
       "       'genres_Anime', 'genres_Biography', 'genres_Children', 'genres_Comedy',\n",
       "       'genres_Crime', 'genres_Cult', 'genres_Documentary', 'genres_Drama',\n",
       "       'genres_Family', 'genres_Fantasy', 'genres_Food', 'genres_Game Show',\n",
       "       'genres_History', 'genres_Home_Garden', 'genres_Horror',\n",
       "       'genres_Independent', 'genres_LGBTQ', 'genres_Musical',\n",
       "       'genres_Mystery', 'genres_Reality', 'genres_Romance',\n",
       "       'genres_Science_Fiction', 'genres_Sport', 'genres_Stand_up_Talk',\n",
       "       'genres_Thriller', 'genres_Travel', 'platforms_acorntv',\n",
       "       'platforms_adult_swim_tveverywhere', 'platforms_amazon_prime',\n",
       "       'platforms_amc', 'platforms_amc_premiere', 'platforms_bbc_america_tve',\n",
       "       'platforms_britbox', 'platforms_cartoon_network',\n",
       "       'platforms_cbs_all_access', 'platforms_cinemax',\n",
       "       'platforms_comedycentral_tveverywhere', 'platforms_criterion_channel',\n",
       "       'platforms_crunchyroll_premium', 'platforms_curiositystream',\n",
       "       'platforms_dc_universe', 'platforms_epix', 'platforms_fandor',\n",
       "       'platforms_free', 'platforms_fubo_tv', 'platforms_funimation',\n",
       "       'platforms_hbo', 'platforms_hbo_max', 'platforms_hoopla',\n",
       "       'platforms_hulu_plus', 'platforms_kanopy', 'platforms_nbc_tveverywhere',\n",
       "       'platforms_netflix', 'platforms_shoutfactorytv', 'platforms_showtime',\n",
       "       'platforms_shudder', 'platforms_starz', 'platforms_sundancenow',\n",
       "       'platforms_syfy_tveverywhere', 'platforms_tbs', 'platforms_tnt',\n",
       "       'platforms_trutv_tveverywhere', 'platforms_urbanmoviechannel',\n",
       "       'platforms_velocity_go', 'platforms_watch_tcm'],\n",
       "      dtype='object')"
      ]
     },
     "execution_count": 4,
     "metadata": {},
     "output_type": "execute_result"
    }
   ],
   "source": [
    "hbo.columns"
   ]
  },
  {
   "cell_type": "markdown",
   "id": "cd7a132c",
   "metadata": {},
   "source": [
    "Nominal - title, type, rating, rest of the \"genre\" and \"platforms\" columns\n",
    "\n",
    "Ordinal - decade, imdb_bucket\n",
    "\n",
    "Discrete - year, imdb_score, rotten_score\n",
    "\n",
    "Continuous - None"
   ]
  },
  {
   "cell_type": "code",
   "execution_count": 5,
   "id": "02b370bf",
   "metadata": {},
   "outputs": [
    {
     "data": {
      "text/plain": [
       "title                            object\n",
       "type                             object\n",
       "year                              int64\n",
       "rating                           object\n",
       "imdb_score                      float64\n",
       "                                 ...   \n",
       "platforms_tnt                     int64\n",
       "platforms_trutv_tveverywhere      int64\n",
       "platforms_urbanmoviechannel       int64\n",
       "platforms_velocity_go             int64\n",
       "platforms_watch_tcm               int64\n",
       "Length: 75, dtype: object"
      ]
     },
     "execution_count": 5,
     "metadata": {},
     "output_type": "execute_result"
    }
   ],
   "source": [
    "hbo.dtypes"
   ]
  },
  {
   "cell_type": "code",
   "execution_count": 6,
   "id": "c9d5bc72",
   "metadata": {},
   "outputs": [
    {
     "data": {
      "text/plain": [
       "title                         0\n",
       "type                       1712\n",
       "year                          0\n",
       "rating                      550\n",
       "imdb_score                   62\n",
       "rotten_score                722\n",
       "decade                        0\n",
       "imdb_bucket                  62\n",
       "genres_Action_Adventure       0\n",
       "genres_Animation              0\n",
       "genres_Anime                  0\n",
       "genres_Biography              0\n",
       "genres_Children               0\n",
       "genres_Comedy                 0\n",
       "genres_Crime                  0\n",
       "genres_Cult                   0\n",
       "genres_Documentary            0\n",
       "genres_Drama                  0\n",
       "genres_Family                 0\n",
       "genres_Fantasy                0\n",
       "genres_Food                   0\n",
       "genres_Game Show              0\n",
       "genres_History                0\n",
       "genres_Home_Garden            0\n",
       "genres_Horror                 0\n",
       "dtype: int64"
      ]
     },
     "execution_count": 6,
     "metadata": {},
     "output_type": "execute_result"
    }
   ],
   "source": [
    "hbo.isna().sum().head(25)"
   ]
  },
  {
   "cell_type": "markdown",
   "id": "b4ff12fc",
   "metadata": {},
   "source": [
    "NA values in the \"hbo\" dataframe ( first 25 cols, for the rest the values are 0.)"
   ]
  },
  {
   "cell_type": "markdown",
   "id": "dd12d7b1",
   "metadata": {},
   "source": [
    "# Genre"
   ]
  },
  {
   "cell_type": "markdown",
   "id": "aa9a12f8",
   "metadata": {},
   "source": [
    "'genre' is the list of all columns containing \"genre_\" string ."
   ]
  },
  {
   "cell_type": "code",
   "execution_count": 7,
   "id": "7efe4be6",
   "metadata": {},
   "outputs": [
    {
     "name": "stdout",
     "output_type": "stream",
     "text": [
      "['genres_Action_Adventure', 'genres_Animation', 'genres_Anime', 'genres_Biography', 'genres_Children', 'genres_Comedy', 'genres_Crime', 'genres_Cult', 'genres_Documentary', 'genres_Drama', 'genres_Family', 'genres_Fantasy', 'genres_Food', 'genres_Game Show', 'genres_History', 'genres_Home_Garden', 'genres_Horror', 'genres_Independent', 'genres_LGBTQ', 'genres_Musical', 'genres_Mystery', 'genres_Reality', 'genres_Romance', 'genres_Science_Fiction', 'genres_Sport', 'genres_Stand_up_Talk', 'genres_Thriller', 'genres_Travel']\n"
     ]
    }
   ],
   "source": [
    "genre=[]\n",
    "for col in hbo.columns:\n",
    "    if 'genres_' in col:\n",
    "        genre.append(col)\n",
    "print(genre)"
   ]
  },
  {
   "cell_type": "code",
   "execution_count": 8,
   "id": "3a27f8d6",
   "metadata": {},
   "outputs": [
    {
     "data": {
      "text/html": [
       "<div>\n",
       "<style scoped>\n",
       "    .dataframe tbody tr th:only-of-type {\n",
       "        vertical-align: middle;\n",
       "    }\n",
       "\n",
       "    .dataframe tbody tr th {\n",
       "        vertical-align: top;\n",
       "    }\n",
       "\n",
       "    .dataframe thead th {\n",
       "        text-align: right;\n",
       "    }\n",
       "</style>\n",
       "<table border=\"1\" class=\"dataframe\">\n",
       "  <thead>\n",
       "    <tr style=\"text-align: right;\">\n",
       "      <th></th>\n",
       "      <th>genres_Action_Adventure</th>\n",
       "      <th>genres_Animation</th>\n",
       "      <th>genres_Anime</th>\n",
       "      <th>genres_Biography</th>\n",
       "      <th>genres_Children</th>\n",
       "      <th>genres_Comedy</th>\n",
       "      <th>genres_Crime</th>\n",
       "      <th>genres_Cult</th>\n",
       "      <th>genres_Documentary</th>\n",
       "      <th>genres_Drama</th>\n",
       "      <th>...</th>\n",
       "      <th>genres_LGBTQ</th>\n",
       "      <th>genres_Musical</th>\n",
       "      <th>genres_Mystery</th>\n",
       "      <th>genres_Reality</th>\n",
       "      <th>genres_Romance</th>\n",
       "      <th>genres_Science_Fiction</th>\n",
       "      <th>genres_Sport</th>\n",
       "      <th>genres_Stand_up_Talk</th>\n",
       "      <th>genres_Thriller</th>\n",
       "      <th>genres_Travel</th>\n",
       "    </tr>\n",
       "  </thead>\n",
       "  <tbody>\n",
       "    <tr>\n",
       "      <th>0</th>\n",
       "      <td>1</td>\n",
       "      <td>0</td>\n",
       "      <td>0</td>\n",
       "      <td>0</td>\n",
       "      <td>0</td>\n",
       "      <td>0</td>\n",
       "      <td>0</td>\n",
       "      <td>0</td>\n",
       "      <td>0</td>\n",
       "      <td>1</td>\n",
       "      <td>...</td>\n",
       "      <td>0</td>\n",
       "      <td>0</td>\n",
       "      <td>0</td>\n",
       "      <td>0</td>\n",
       "      <td>1</td>\n",
       "      <td>1</td>\n",
       "      <td>0</td>\n",
       "      <td>0</td>\n",
       "      <td>0</td>\n",
       "      <td>0</td>\n",
       "    </tr>\n",
       "    <tr>\n",
       "      <th>1</th>\n",
       "      <td>1</td>\n",
       "      <td>1</td>\n",
       "      <td>0</td>\n",
       "      <td>0</td>\n",
       "      <td>0</td>\n",
       "      <td>1</td>\n",
       "      <td>0</td>\n",
       "      <td>0</td>\n",
       "      <td>0</td>\n",
       "      <td>0</td>\n",
       "      <td>...</td>\n",
       "      <td>0</td>\n",
       "      <td>0</td>\n",
       "      <td>0</td>\n",
       "      <td>0</td>\n",
       "      <td>0</td>\n",
       "      <td>1</td>\n",
       "      <td>0</td>\n",
       "      <td>0</td>\n",
       "      <td>0</td>\n",
       "      <td>0</td>\n",
       "    </tr>\n",
       "    <tr>\n",
       "      <th>2</th>\n",
       "      <td>1</td>\n",
       "      <td>0</td>\n",
       "      <td>0</td>\n",
       "      <td>0</td>\n",
       "      <td>0</td>\n",
       "      <td>0</td>\n",
       "      <td>0</td>\n",
       "      <td>0</td>\n",
       "      <td>0</td>\n",
       "      <td>1</td>\n",
       "      <td>...</td>\n",
       "      <td>0</td>\n",
       "      <td>0</td>\n",
       "      <td>0</td>\n",
       "      <td>0</td>\n",
       "      <td>0</td>\n",
       "      <td>1</td>\n",
       "      <td>0</td>\n",
       "      <td>0</td>\n",
       "      <td>0</td>\n",
       "      <td>0</td>\n",
       "    </tr>\n",
       "    <tr>\n",
       "      <th>3</th>\n",
       "      <td>0</td>\n",
       "      <td>0</td>\n",
       "      <td>0</td>\n",
       "      <td>0</td>\n",
       "      <td>0</td>\n",
       "      <td>0</td>\n",
       "      <td>0</td>\n",
       "      <td>1</td>\n",
       "      <td>0</td>\n",
       "      <td>1</td>\n",
       "      <td>...</td>\n",
       "      <td>0</td>\n",
       "      <td>0</td>\n",
       "      <td>0</td>\n",
       "      <td>0</td>\n",
       "      <td>0</td>\n",
       "      <td>0</td>\n",
       "      <td>0</td>\n",
       "      <td>0</td>\n",
       "      <td>0</td>\n",
       "      <td>0</td>\n",
       "    </tr>\n",
       "    <tr>\n",
       "      <th>4</th>\n",
       "      <td>1</td>\n",
       "      <td>0</td>\n",
       "      <td>0</td>\n",
       "      <td>0</td>\n",
       "      <td>0</td>\n",
       "      <td>0</td>\n",
       "      <td>0</td>\n",
       "      <td>0</td>\n",
       "      <td>0</td>\n",
       "      <td>1</td>\n",
       "      <td>...</td>\n",
       "      <td>0</td>\n",
       "      <td>0</td>\n",
       "      <td>0</td>\n",
       "      <td>0</td>\n",
       "      <td>0</td>\n",
       "      <td>1</td>\n",
       "      <td>0</td>\n",
       "      <td>0</td>\n",
       "      <td>0</td>\n",
       "      <td>0</td>\n",
       "    </tr>\n",
       "    <tr>\n",
       "      <th>...</th>\n",
       "      <td>...</td>\n",
       "      <td>...</td>\n",
       "      <td>...</td>\n",
       "      <td>...</td>\n",
       "      <td>...</td>\n",
       "      <td>...</td>\n",
       "      <td>...</td>\n",
       "      <td>...</td>\n",
       "      <td>...</td>\n",
       "      <td>...</td>\n",
       "      <td>...</td>\n",
       "      <td>...</td>\n",
       "      <td>...</td>\n",
       "      <td>...</td>\n",
       "      <td>...</td>\n",
       "      <td>...</td>\n",
       "      <td>...</td>\n",
       "      <td>...</td>\n",
       "      <td>...</td>\n",
       "      <td>...</td>\n",
       "      <td>...</td>\n",
       "    </tr>\n",
       "    <tr>\n",
       "      <th>2082</th>\n",
       "      <td>0</td>\n",
       "      <td>0</td>\n",
       "      <td>0</td>\n",
       "      <td>0</td>\n",
       "      <td>0</td>\n",
       "      <td>0</td>\n",
       "      <td>0</td>\n",
       "      <td>0</td>\n",
       "      <td>0</td>\n",
       "      <td>0</td>\n",
       "      <td>...</td>\n",
       "      <td>0</td>\n",
       "      <td>0</td>\n",
       "      <td>0</td>\n",
       "      <td>0</td>\n",
       "      <td>0</td>\n",
       "      <td>0</td>\n",
       "      <td>0</td>\n",
       "      <td>0</td>\n",
       "      <td>0</td>\n",
       "      <td>0</td>\n",
       "    </tr>\n",
       "    <tr>\n",
       "      <th>2083</th>\n",
       "      <td>0</td>\n",
       "      <td>0</td>\n",
       "      <td>0</td>\n",
       "      <td>0</td>\n",
       "      <td>0</td>\n",
       "      <td>0</td>\n",
       "      <td>0</td>\n",
       "      <td>0</td>\n",
       "      <td>0</td>\n",
       "      <td>0</td>\n",
       "      <td>...</td>\n",
       "      <td>0</td>\n",
       "      <td>0</td>\n",
       "      <td>0</td>\n",
       "      <td>0</td>\n",
       "      <td>0</td>\n",
       "      <td>0</td>\n",
       "      <td>0</td>\n",
       "      <td>0</td>\n",
       "      <td>0</td>\n",
       "      <td>0</td>\n",
       "    </tr>\n",
       "    <tr>\n",
       "      <th>2084</th>\n",
       "      <td>0</td>\n",
       "      <td>0</td>\n",
       "      <td>0</td>\n",
       "      <td>0</td>\n",
       "      <td>0</td>\n",
       "      <td>0</td>\n",
       "      <td>0</td>\n",
       "      <td>0</td>\n",
       "      <td>0</td>\n",
       "      <td>0</td>\n",
       "      <td>...</td>\n",
       "      <td>0</td>\n",
       "      <td>0</td>\n",
       "      <td>0</td>\n",
       "      <td>0</td>\n",
       "      <td>0</td>\n",
       "      <td>0</td>\n",
       "      <td>0</td>\n",
       "      <td>0</td>\n",
       "      <td>0</td>\n",
       "      <td>0</td>\n",
       "    </tr>\n",
       "    <tr>\n",
       "      <th>2085</th>\n",
       "      <td>0</td>\n",
       "      <td>0</td>\n",
       "      <td>0</td>\n",
       "      <td>0</td>\n",
       "      <td>0</td>\n",
       "      <td>0</td>\n",
       "      <td>0</td>\n",
       "      <td>0</td>\n",
       "      <td>0</td>\n",
       "      <td>0</td>\n",
       "      <td>...</td>\n",
       "      <td>0</td>\n",
       "      <td>0</td>\n",
       "      <td>0</td>\n",
       "      <td>0</td>\n",
       "      <td>0</td>\n",
       "      <td>0</td>\n",
       "      <td>0</td>\n",
       "      <td>0</td>\n",
       "      <td>0</td>\n",
       "      <td>0</td>\n",
       "    </tr>\n",
       "    <tr>\n",
       "      <th>2086</th>\n",
       "      <td>0</td>\n",
       "      <td>0</td>\n",
       "      <td>0</td>\n",
       "      <td>0</td>\n",
       "      <td>0</td>\n",
       "      <td>0</td>\n",
       "      <td>0</td>\n",
       "      <td>0</td>\n",
       "      <td>0</td>\n",
       "      <td>0</td>\n",
       "      <td>...</td>\n",
       "      <td>0</td>\n",
       "      <td>0</td>\n",
       "      <td>0</td>\n",
       "      <td>0</td>\n",
       "      <td>0</td>\n",
       "      <td>0</td>\n",
       "      <td>0</td>\n",
       "      <td>0</td>\n",
       "      <td>0</td>\n",
       "      <td>0</td>\n",
       "    </tr>\n",
       "  </tbody>\n",
       "</table>\n",
       "<p>2087 rows × 28 columns</p>\n",
       "</div>"
      ],
      "text/plain": [
       "      genres_Action_Adventure  genres_Animation  genres_Anime  \\\n",
       "0                           1                 0             0   \n",
       "1                           1                 1             0   \n",
       "2                           1                 0             0   \n",
       "3                           0                 0             0   \n",
       "4                           1                 0             0   \n",
       "...                       ...               ...           ...   \n",
       "2082                        0                 0             0   \n",
       "2083                        0                 0             0   \n",
       "2084                        0                 0             0   \n",
       "2085                        0                 0             0   \n",
       "2086                        0                 0             0   \n",
       "\n",
       "      genres_Biography  genres_Children  genres_Comedy  genres_Crime  \\\n",
       "0                    0                0              0             0   \n",
       "1                    0                0              1             0   \n",
       "2                    0                0              0             0   \n",
       "3                    0                0              0             0   \n",
       "4                    0                0              0             0   \n",
       "...                ...              ...            ...           ...   \n",
       "2082                 0                0              0             0   \n",
       "2083                 0                0              0             0   \n",
       "2084                 0                0              0             0   \n",
       "2085                 0                0              0             0   \n",
       "2086                 0                0              0             0   \n",
       "\n",
       "      genres_Cult  genres_Documentary  genres_Drama  ...  genres_LGBTQ  \\\n",
       "0               0                   0             1  ...             0   \n",
       "1               0                   0             0  ...             0   \n",
       "2               0                   0             1  ...             0   \n",
       "3               1                   0             1  ...             0   \n",
       "4               0                   0             1  ...             0   \n",
       "...           ...                 ...           ...  ...           ...   \n",
       "2082            0                   0             0  ...             0   \n",
       "2083            0                   0             0  ...             0   \n",
       "2084            0                   0             0  ...             0   \n",
       "2085            0                   0             0  ...             0   \n",
       "2086            0                   0             0  ...             0   \n",
       "\n",
       "      genres_Musical  genres_Mystery  genres_Reality  genres_Romance  \\\n",
       "0                  0               0               0               1   \n",
       "1                  0               0               0               0   \n",
       "2                  0               0               0               0   \n",
       "3                  0               0               0               0   \n",
       "4                  0               0               0               0   \n",
       "...              ...             ...             ...             ...   \n",
       "2082               0               0               0               0   \n",
       "2083               0               0               0               0   \n",
       "2084               0               0               0               0   \n",
       "2085               0               0               0               0   \n",
       "2086               0               0               0               0   \n",
       "\n",
       "      genres_Science_Fiction  genres_Sport  genres_Stand_up_Talk  \\\n",
       "0                          1             0                     0   \n",
       "1                          1             0                     0   \n",
       "2                          1             0                     0   \n",
       "3                          0             0                     0   \n",
       "4                          1             0                     0   \n",
       "...                      ...           ...                   ...   \n",
       "2082                       0             0                     0   \n",
       "2083                       0             0                     0   \n",
       "2084                       0             0                     0   \n",
       "2085                       0             0                     0   \n",
       "2086                       0             0                     0   \n",
       "\n",
       "      genres_Thriller  genres_Travel  \n",
       "0                   0              0  \n",
       "1                   0              0  \n",
       "2                   0              0  \n",
       "3                   0              0  \n",
       "4                   0              0  \n",
       "...               ...            ...  \n",
       "2082                0              0  \n",
       "2083                0              0  \n",
       "2084                0              0  \n",
       "2085                0              0  \n",
       "2086                0              0  \n",
       "\n",
       "[2087 rows x 28 columns]"
      ]
     },
     "execution_count": 8,
     "metadata": {},
     "output_type": "execute_result"
    }
   ],
   "source": [
    "hbo_genre_df=hbo[genre]\n",
    "hbo_genre_df"
   ]
  },
  {
   "cell_type": "markdown",
   "id": "54c11c20",
   "metadata": {},
   "source": [
    "\"hbo_genre\" is the subset dataframe of \"hbo\" dataframe with all 'genre_' columns."
   ]
  },
  {
   "cell_type": "code",
   "execution_count": 9,
   "id": "1412ec69",
   "metadata": {},
   "outputs": [
    {
     "data": {
      "text/html": [
       "<div>\n",
       "<style scoped>\n",
       "    .dataframe tbody tr th:only-of-type {\n",
       "        vertical-align: middle;\n",
       "    }\n",
       "\n",
       "    .dataframe tbody tr th {\n",
       "        vertical-align: top;\n",
       "    }\n",
       "\n",
       "    .dataframe thead th {\n",
       "        text-align: right;\n",
       "    }\n",
       "</style>\n",
       "<table border=\"1\" class=\"dataframe\">\n",
       "  <thead>\n",
       "    <tr style=\"text-align: right;\">\n",
       "      <th></th>\n",
       "      <th>index</th>\n",
       "      <th>Genre</th>\n",
       "    </tr>\n",
       "  </thead>\n",
       "  <tbody>\n",
       "    <tr>\n",
       "      <th>0</th>\n",
       "      <td>0</td>\n",
       "      <td>genres_Action_Adventure, genres_Drama, genres_...</td>\n",
       "    </tr>\n",
       "    <tr>\n",
       "      <th>1</th>\n",
       "      <td>1</td>\n",
       "      <td>genres_Action_Adventure, genres_Animation, gen...</td>\n",
       "    </tr>\n",
       "    <tr>\n",
       "      <th>2</th>\n",
       "      <td>2</td>\n",
       "      <td>genres_Action_Adventure, genres_Drama, genres_...</td>\n",
       "    </tr>\n",
       "    <tr>\n",
       "      <th>3</th>\n",
       "      <td>3</td>\n",
       "      <td>genres_Cult, genres_Drama</td>\n",
       "    </tr>\n",
       "    <tr>\n",
       "      <th>4</th>\n",
       "      <td>4</td>\n",
       "      <td>genres_Action_Adventure, genres_Drama, genres_...</td>\n",
       "    </tr>\n",
       "  </tbody>\n",
       "</table>\n",
       "</div>"
      ],
      "text/plain": [
       "   index                                              Genre\n",
       "0      0  genres_Action_Adventure, genres_Drama, genres_...\n",
       "1      1  genres_Action_Adventure, genres_Animation, gen...\n",
       "2      2  genres_Action_Adventure, genres_Drama, genres_...\n",
       "3      3                          genres_Cult, genres_Drama\n",
       "4      4  genres_Action_Adventure, genres_Drama, genres_..."
      ]
     },
     "execution_count": 9,
     "metadata": {},
     "output_type": "execute_result"
    }
   ],
   "source": [
    "hbo_genre=hbo_genre_df.apply(lambda row: ', '.join([col for col, b in zip(hbo_genre_df.columns, row) if b]), axis=1).reset_index()\n",
    "hbo_genre.rename(columns = {0:'Genre'}, inplace = True)\n",
    "hbo_genre.head()"
   ]
  },
  {
   "cell_type": "markdown",
   "id": "c6a86cf0",
   "metadata": {},
   "source": [
    "Merging columns of \"hbo_genre\" into one columne 'Genre' ."
   ]
  },
  {
   "cell_type": "code",
   "execution_count": 10,
   "id": "eb1ff3e3",
   "metadata": {},
   "outputs": [
    {
     "data": {
      "text/html": [
       "<div>\n",
       "<style scoped>\n",
       "    .dataframe tbody tr th:only-of-type {\n",
       "        vertical-align: middle;\n",
       "    }\n",
       "\n",
       "    .dataframe tbody tr th {\n",
       "        vertical-align: top;\n",
       "    }\n",
       "\n",
       "    .dataframe thead th {\n",
       "        text-align: right;\n",
       "    }\n",
       "</style>\n",
       "<table border=\"1\" class=\"dataframe\">\n",
       "  <thead>\n",
       "    <tr style=\"text-align: right;\">\n",
       "      <th></th>\n",
       "      <th>Genre</th>\n",
       "    </tr>\n",
       "  </thead>\n",
       "  <tbody>\n",
       "    <tr>\n",
       "      <th>0</th>\n",
       "      <td>[genres_Action_Adventure,  genres_Drama,  genr...</td>\n",
       "    </tr>\n",
       "    <tr>\n",
       "      <th>1</th>\n",
       "      <td>[genres_Action_Adventure,  genres_Animation,  ...</td>\n",
       "    </tr>\n",
       "    <tr>\n",
       "      <th>2</th>\n",
       "      <td>[genres_Action_Adventure,  genres_Drama,  genr...</td>\n",
       "    </tr>\n",
       "    <tr>\n",
       "      <th>3</th>\n",
       "      <td>[genres_Cult,  genres_Drama]</td>\n",
       "    </tr>\n",
       "    <tr>\n",
       "      <th>4</th>\n",
       "      <td>[genres_Action_Adventure,  genres_Drama,  genr...</td>\n",
       "    </tr>\n",
       "  </tbody>\n",
       "</table>\n",
       "</div>"
      ],
      "text/plain": [
       "                                               Genre\n",
       "0  [genres_Action_Adventure,  genres_Drama,  genr...\n",
       "1  [genres_Action_Adventure,  genres_Animation,  ...\n",
       "2  [genres_Action_Adventure,  genres_Drama,  genr...\n",
       "3                       [genres_Cult,  genres_Drama]\n",
       "4  [genres_Action_Adventure,  genres_Drama,  genr..."
      ]
     },
     "execution_count": 10,
     "metadata": {},
     "output_type": "execute_result"
    }
   ],
   "source": [
    "hbo_genre.drop('index',axis=1,inplace=True)\n",
    "hbo_genre['Genre']=hbo_genre['Genre'].str.split(',')\n",
    "hbo_genre.head()"
   ]
  },
  {
   "cell_type": "code",
   "execution_count": 11,
   "id": "720c3beb",
   "metadata": {},
   "outputs": [
    {
     "name": "stdout",
     "output_type": "stream",
     "text": [
      "[5, 5, 4, 2, 4, 4, 6, 3, 3, 1]\n"
     ]
    },
    {
     "data": {
      "text/plain": [
       "<AxesSubplot:ylabel='count'>"
      ]
     },
     "execution_count": 11,
     "metadata": {},
     "output_type": "execute_result"
    },
    {
     "data": {
      "image/png": "[encoded data removed]",
      "text/plain": [
       "<Figure size 432x288 with 1 Axes>"
      ]
     },
     "metadata": {
      "needs_background": "light"
     },
     "output_type": "display_data"
    }
   ],
   "source": [
    "freq_genre=[]\n",
    "for i in hbo_genre.Genre:\n",
    "    if type(i)==list:\n",
    "        freq_genre.append(len(i))\n",
    "print(freq_genre[:10])    # first 10 elements from the list \"freq_genre\" \n",
    "sns.countplot(x=freq_genre)"
   ]
  },
  {
   "cell_type": "markdown",
   "id": "b15eafb5",
   "metadata": {},
   "source": [
    "Histogram of Size of each row list in the \"hbo_genre\" Dataframe. We can see that movies with one, two or three genres are more common than other movies with more than three grenres."
   ]
  },
  {
   "cell_type": "markdown",
   "id": "b828d8df",
   "metadata": {},
   "source": [
    "Converting elements of 'Genre' columne into list for using the pandas's 'explode' method."
   ]
  },
  {
   "cell_type": "code",
   "execution_count": 12,
   "id": "94409f59",
   "metadata": {},
   "outputs": [
    {
     "data": {
      "text/html": [
       "<div>\n",
       "<style scoped>\n",
       "    .dataframe tbody tr th:only-of-type {\n",
       "        vertical-align: middle;\n",
       "    }\n",
       "\n",
       "    .dataframe tbody tr th {\n",
       "        vertical-align: top;\n",
       "    }\n",
       "\n",
       "    .dataframe thead th {\n",
       "        text-align: right;\n",
       "    }\n",
       "</style>\n",
       "<table border=\"1\" class=\"dataframe\">\n",
       "  <thead>\n",
       "    <tr style=\"text-align: right;\">\n",
       "      <th></th>\n",
       "      <th>Genre</th>\n",
       "    </tr>\n",
       "  </thead>\n",
       "  <tbody>\n",
       "    <tr>\n",
       "      <th>0</th>\n",
       "      <td>genres_Action_Adventure</td>\n",
       "    </tr>\n",
       "    <tr>\n",
       "      <th>1</th>\n",
       "      <td>genres_Drama</td>\n",
       "    </tr>\n",
       "    <tr>\n",
       "      <th>2</th>\n",
       "      <td>genres_Fantasy</td>\n",
       "    </tr>\n",
       "    <tr>\n",
       "      <th>3</th>\n",
       "      <td>genres_Romance</td>\n",
       "    </tr>\n",
       "    <tr>\n",
       "      <th>4</th>\n",
       "      <td>genres_Science_Fiction</td>\n",
       "    </tr>\n",
       "    <tr>\n",
       "      <th>...</th>\n",
       "      <td>...</td>\n",
       "    </tr>\n",
       "    <tr>\n",
       "      <th>6049</th>\n",
       "      <td></td>\n",
       "    </tr>\n",
       "    <tr>\n",
       "      <th>6050</th>\n",
       "      <td></td>\n",
       "    </tr>\n",
       "    <tr>\n",
       "      <th>6051</th>\n",
       "      <td></td>\n",
       "    </tr>\n",
       "    <tr>\n",
       "      <th>6052</th>\n",
       "      <td></td>\n",
       "    </tr>\n",
       "    <tr>\n",
       "      <th>6053</th>\n",
       "      <td></td>\n",
       "    </tr>\n",
       "  </tbody>\n",
       "</table>\n",
       "<p>6054 rows × 1 columns</p>\n",
       "</div>"
      ],
      "text/plain": [
       "                        Genre\n",
       "0     genres_Action_Adventure\n",
       "1                genres_Drama\n",
       "2              genres_Fantasy\n",
       "3              genres_Romance\n",
       "4      genres_Science_Fiction\n",
       "...                       ...\n",
       "6049                         \n",
       "6050                         \n",
       "6051                         \n",
       "6052                         \n",
       "6053                         \n",
       "\n",
       "[6054 rows x 1 columns]"
      ]
     },
     "execution_count": 12,
     "metadata": {},
     "output_type": "execute_result"
    }
   ],
   "source": [
    "explode_genre=hbo_genre.explode('Genre')\n",
    "explode_genre.reset_index(inplace = True,drop = True)\n",
    "explode_genre"
   ]
  },
  {
   "cell_type": "code",
   "execution_count": 13,
   "id": "1e357d78",
   "metadata": {},
   "outputs": [
    {
     "data": {
      "text/plain": [
       "45"
      ]
     },
     "execution_count": 13,
     "metadata": {},
     "output_type": "execute_result"
    }
   ],
   "source": [
    "explode_genre.Genre.isin(['',' ']).sum()"
   ]
  },
  {
   "cell_type": "code",
   "execution_count": 14,
   "id": "ec343095",
   "metadata": {},
   "outputs": [
    {
     "data": {
      "image/png": "[encoded data removed]",
      "text/plain": [
       "<Figure size 1008x288 with 1 Axes>"
      ]
     },
     "metadata": {
      "needs_background": "light"
     },
     "output_type": "display_data"
    }
   ],
   "source": [
    "nan_value = float(\"NaN\")\n",
    "plt.figure(figsize=(14,4))\n",
    "explode_genre['Genre']=explode_genre['Genre'].str.replace('genres_','')\n",
    "explode_genre['Genre']=explode_genre['Genre'].str.replace(' ','')\n",
    "explode_genre['Genre'].replace(\"\", nan_value, inplace=True)\n",
    "explode_genre.dropna(subset = [\"Genre\"], inplace=True)\n",
    "sns.countplot(x=explode_genre['Genre'],order=explode_genre['Genre'].value_counts().index)\n",
    "plt.xticks(rotation=90)\n",
    "plt.show()"
   ]
  },
  {
   "cell_type": "markdown",
   "id": "c74b8e47",
   "metadata": {},
   "source": [
    "# Platforms"
   ]
  },
  {
   "cell_type": "markdown",
   "id": "d3fa8877",
   "metadata": {},
   "source": [
    "Descending Order of genre count in the dataframe . We can see that 'Drama' is the most common genre as individual or in group with others."
   ]
  },
  {
   "cell_type": "code",
   "execution_count": 15,
   "id": "47bdaefa",
   "metadata": {},
   "outputs": [
    {
     "name": "stdout",
     "output_type": "stream",
     "text": [
      "['platforms_acorntv', 'platforms_adult_swim_tveverywhere', 'platforms_amazon_prime', 'platforms_amc', 'platforms_amc_premiere', 'platforms_bbc_america_tve', 'platforms_britbox', 'platforms_cartoon_network', 'platforms_cbs_all_access', 'platforms_cinemax', 'platforms_comedycentral_tveverywhere', 'platforms_criterion_channel', 'platforms_crunchyroll_premium', 'platforms_curiositystream', 'platforms_dc_universe', 'platforms_epix', 'platforms_fandor', 'platforms_free', 'platforms_fubo_tv', 'platforms_funimation', 'platforms_hbo', 'platforms_hbo_max', 'platforms_hoopla', 'platforms_hulu_plus', 'platforms_kanopy', 'platforms_nbc_tveverywhere', 'platforms_netflix', 'platforms_shoutfactorytv', 'platforms_showtime', 'platforms_shudder', 'platforms_starz', 'platforms_sundancenow', 'platforms_syfy_tveverywhere', 'platforms_tbs', 'platforms_tnt', 'platforms_trutv_tveverywhere', 'platforms_urbanmoviechannel', 'platforms_velocity_go', 'platforms_watch_tcm']\n"
     ]
    }
   ],
   "source": [
    "platform=[]\n",
    "for col in hbo.columns:\n",
    "    if 'platforms_' in col:\n",
    "        platform.append(col)\n",
    "print(platform)"
   ]
  },
  {
   "cell_type": "code",
   "execution_count": 16,
   "id": "5fb35428",
   "metadata": {},
   "outputs": [
    {
     "data": {
      "text/html": [
       "<div>\n",
       "<style scoped>\n",
       "    .dataframe tbody tr th:only-of-type {\n",
       "        vertical-align: middle;\n",
       "    }\n",
       "\n",
       "    .dataframe tbody tr th {\n",
       "        vertical-align: top;\n",
       "    }\n",
       "\n",
       "    .dataframe thead th {\n",
       "        text-align: right;\n",
       "    }\n",
       "</style>\n",
       "<table border=\"1\" class=\"dataframe\">\n",
       "  <thead>\n",
       "    <tr style=\"text-align: right;\">\n",
       "      <th></th>\n",
       "      <th>index</th>\n",
       "      <th>Platform</th>\n",
       "    </tr>\n",
       "  </thead>\n",
       "  <tbody>\n",
       "    <tr>\n",
       "      <th>0</th>\n",
       "      <td>0</td>\n",
       "      <td>platforms_hbo, platforms_hbo_max</td>\n",
       "    </tr>\n",
       "    <tr>\n",
       "      <th>1</th>\n",
       "      <td>1</td>\n",
       "      <td>platforms_adult_swim_tveverywhere, platforms_f...</td>\n",
       "    </tr>\n",
       "    <tr>\n",
       "      <th>2</th>\n",
       "      <td>2</td>\n",
       "      <td>platforms_hbo_max</td>\n",
       "    </tr>\n",
       "    <tr>\n",
       "      <th>3</th>\n",
       "      <td>3</td>\n",
       "      <td>platforms_hbo, platforms_hbo_max</td>\n",
       "    </tr>\n",
       "    <tr>\n",
       "      <th>4</th>\n",
       "      <td>4</td>\n",
       "      <td>platforms_hbo_max</td>\n",
       "    </tr>\n",
       "  </tbody>\n",
       "</table>\n",
       "</div>"
      ],
      "text/plain": [
       "   index                                           Platform\n",
       "0      0                   platforms_hbo, platforms_hbo_max\n",
       "1      1  platforms_adult_swim_tveverywhere, platforms_f...\n",
       "2      2                                  platforms_hbo_max\n",
       "3      3                   platforms_hbo, platforms_hbo_max\n",
       "4      4                                  platforms_hbo_max"
      ]
     },
     "execution_count": 16,
     "metadata": {},
     "output_type": "execute_result"
    }
   ],
   "source": [
    "hbo_plat=hbo[platform]\n",
    "hbo_plat=hbo_plat.apply(lambda row: ', '.join([col for col, b in zip(hbo_plat.columns, row) if b]), axis=1).reset_index()\n",
    "hbo_plat.rename(columns = {0:'Platform'}, inplace = True)\n",
    "hbo_plat.head()"
   ]
  },
  {
   "cell_type": "code",
   "execution_count": 17,
   "id": "aa479f4b",
   "metadata": {},
   "outputs": [
    {
     "data": {
      "text/html": [
       "<div>\n",
       "<style scoped>\n",
       "    .dataframe tbody tr th:only-of-type {\n",
       "        vertical-align: middle;\n",
       "    }\n",
       "\n",
       "    .dataframe tbody tr th {\n",
       "        vertical-align: top;\n",
       "    }\n",
       "\n",
       "    .dataframe thead th {\n",
       "        text-align: right;\n",
       "    }\n",
       "</style>\n",
       "<table border=\"1\" class=\"dataframe\">\n",
       "  <thead>\n",
       "    <tr style=\"text-align: right;\">\n",
       "      <th></th>\n",
       "      <th>Platform</th>\n",
       "    </tr>\n",
       "  </thead>\n",
       "  <tbody>\n",
       "    <tr>\n",
       "      <th>0</th>\n",
       "      <td>[platforms_hbo,  platforms_hbo_max]</td>\n",
       "    </tr>\n",
       "    <tr>\n",
       "      <th>1</th>\n",
       "      <td>[platforms_adult_swim_tveverywhere,  platforms...</td>\n",
       "    </tr>\n",
       "    <tr>\n",
       "      <th>2</th>\n",
       "      <td>[platforms_hbo_max]</td>\n",
       "    </tr>\n",
       "    <tr>\n",
       "      <th>3</th>\n",
       "      <td>[platforms_hbo,  platforms_hbo_max]</td>\n",
       "    </tr>\n",
       "    <tr>\n",
       "      <th>4</th>\n",
       "      <td>[platforms_hbo_max]</td>\n",
       "    </tr>\n",
       "    <tr>\n",
       "      <th>...</th>\n",
       "      <td>...</td>\n",
       "    </tr>\n",
       "    <tr>\n",
       "      <th>2082</th>\n",
       "      <td>[platforms_curiositystream,  platforms_hbo_max]</td>\n",
       "    </tr>\n",
       "    <tr>\n",
       "      <th>2083</th>\n",
       "      <td>[platforms_curiositystream,  platforms_hbo_max]</td>\n",
       "    </tr>\n",
       "    <tr>\n",
       "      <th>2084</th>\n",
       "      <td>[platforms_hbo,  platforms_hbo_max]</td>\n",
       "    </tr>\n",
       "    <tr>\n",
       "      <th>2085</th>\n",
       "      <td>[platforms_curiositystream,  platforms_hbo_max]</td>\n",
       "    </tr>\n",
       "    <tr>\n",
       "      <th>2086</th>\n",
       "      <td>[platforms_curiositystream,  platforms_hbo_max]</td>\n",
       "    </tr>\n",
       "  </tbody>\n",
       "</table>\n",
       "<p>2087 rows × 1 columns</p>\n",
       "</div>"
      ],
      "text/plain": [
       "                                               Platform\n",
       "0                   [platforms_hbo,  platforms_hbo_max]\n",
       "1     [platforms_adult_swim_tveverywhere,  platforms...\n",
       "2                                   [platforms_hbo_max]\n",
       "3                   [platforms_hbo,  platforms_hbo_max]\n",
       "4                                   [platforms_hbo_max]\n",
       "...                                                 ...\n",
       "2082    [platforms_curiositystream,  platforms_hbo_max]\n",
       "2083    [platforms_curiositystream,  platforms_hbo_max]\n",
       "2084                [platforms_hbo,  platforms_hbo_max]\n",
       "2085    [platforms_curiositystream,  platforms_hbo_max]\n",
       "2086    [platforms_curiositystream,  platforms_hbo_max]\n",
       "\n",
       "[2087 rows x 1 columns]"
      ]
     },
     "execution_count": 17,
     "metadata": {},
     "output_type": "execute_result"
    }
   ],
   "source": [
    "hbo_plat.drop('index',axis=1,inplace=True)\n",
    "hbo_plat['Platform']=hbo_plat['Platform'].str.split(',')\n",
    "hbo_plat"
   ]
  },
  {
   "cell_type": "code",
   "execution_count": 18,
   "id": "c2452e00",
   "metadata": {},
   "outputs": [
    {
     "name": "stdout",
     "output_type": "stream",
     "text": [
      "[2, 5, 1, 2, 1, 1, 1, 2, 2, 4]\n"
     ]
    },
    {
     "data": {
      "image/png": "[encoded data removed]",
      "text/plain": [
       "<Figure size 432x288 with 1 Axes>"
      ]
     },
     "metadata": {
      "needs_background": "light"
     },
     "output_type": "display_data"
    },
    {
     "data": {
      "image/png": "[encoded data removed]",
      "text/plain": [
       "<Figure size 432x288 with 1 Axes>"
      ]
     },
     "metadata": {
      "needs_background": "light"
     },
     "output_type": "display_data"
    }
   ],
   "source": [
    "freq_plat=[]\n",
    "freq2_plat=[]\n",
    "for i in hbo_plat.Platform:\n",
    "    if type(i)==list:\n",
    "        freq_plat.append(len(i))\n",
    "        if len(i)==2:\n",
    "            freq2_plat.append(str(i))\n",
    "print(freq_plat[:10])    # first 10 elements from the list \"freq_genre\" \n",
    "plt.title('Countwise share of different number of genre in the dataset')\n",
    "sns.countplot(x=freq_plat)\n",
    "plt.show()\n",
    "plt.title('Countwise share of Two genre in the dataset')\n",
    "sns.countplot(y=freq2_plat,palette = \"Set2\")\n",
    "plt.xticks(rotation=90)\n",
    "plt.show()"
   ]
  },
  {
   "cell_type": "markdown",
   "id": "18b7bd23",
   "metadata": {},
   "source": [
    "From above graph we can see that 'platform_hbo' and 'plaform_hbo_max'(as pair) has more share in platformwise(which is obvious). I draw the second graph because the first graph shows that most of the content is available on two platforms."
   ]
  },
  {
   "cell_type": "code",
   "execution_count": 19,
   "id": "526d6ad5",
   "metadata": {},
   "outputs": [
    {
     "data": {
      "text/html": [
       "<div>\n",
       "<style scoped>\n",
       "    .dataframe tbody tr th:only-of-type {\n",
       "        vertical-align: middle;\n",
       "    }\n",
       "\n",
       "    .dataframe tbody tr th {\n",
       "        vertical-align: top;\n",
       "    }\n",
       "\n",
       "    .dataframe thead th {\n",
       "        text-align: right;\n",
       "    }\n",
       "</style>\n",
       "<table border=\"1\" class=\"dataframe\">\n",
       "  <thead>\n",
       "    <tr style=\"text-align: right;\">\n",
       "      <th></th>\n",
       "      <th>Platform</th>\n",
       "    </tr>\n",
       "  </thead>\n",
       "  <tbody>\n",
       "    <tr>\n",
       "      <th>0</th>\n",
       "      <td>platforms_hbo</td>\n",
       "    </tr>\n",
       "    <tr>\n",
       "      <th>0</th>\n",
       "      <td>platforms_hbo_max</td>\n",
       "    </tr>\n",
       "    <tr>\n",
       "      <th>1</th>\n",
       "      <td>platforms_adult_swim_tveverywhere</td>\n",
       "    </tr>\n",
       "    <tr>\n",
       "      <th>1</th>\n",
       "      <td>platforms_free</td>\n",
       "    </tr>\n",
       "    <tr>\n",
       "      <th>1</th>\n",
       "      <td>platforms_fubo_tv</td>\n",
       "    </tr>\n",
       "    <tr>\n",
       "      <th>...</th>\n",
       "      <td>...</td>\n",
       "    </tr>\n",
       "    <tr>\n",
       "      <th>2084</th>\n",
       "      <td>platforms_hbo_max</td>\n",
       "    </tr>\n",
       "    <tr>\n",
       "      <th>2085</th>\n",
       "      <td>platforms_curiositystream</td>\n",
       "    </tr>\n",
       "    <tr>\n",
       "      <th>2085</th>\n",
       "      <td>platforms_hbo_max</td>\n",
       "    </tr>\n",
       "    <tr>\n",
       "      <th>2086</th>\n",
       "      <td>platforms_curiositystream</td>\n",
       "    </tr>\n",
       "    <tr>\n",
       "      <th>2086</th>\n",
       "      <td>platforms_hbo_max</td>\n",
       "    </tr>\n",
       "  </tbody>\n",
       "</table>\n",
       "<p>4420 rows × 1 columns</p>\n",
       "</div>"
      ],
      "text/plain": [
       "                               Platform\n",
       "0                         platforms_hbo\n",
       "0                     platforms_hbo_max\n",
       "1     platforms_adult_swim_tveverywhere\n",
       "1                        platforms_free\n",
       "1                     platforms_fubo_tv\n",
       "...                                 ...\n",
       "2084                  platforms_hbo_max\n",
       "2085          platforms_curiositystream\n",
       "2085                  platforms_hbo_max\n",
       "2086          platforms_curiositystream\n",
       "2086                  platforms_hbo_max\n",
       "\n",
       "[4420 rows x 1 columns]"
      ]
     },
     "execution_count": 19,
     "metadata": {},
     "output_type": "execute_result"
    }
   ],
   "source": [
    "hbo_plat=hbo_plat.explode('Platform')\n",
    "explode_genre.reset_index(inplace = True,drop = True)\n",
    "hbo_plat"
   ]
  },
  {
   "cell_type": "code",
   "execution_count": 20,
   "id": "ac02b646",
   "metadata": {},
   "outputs": [],
   "source": [
    "hbo_plat['Platform']=hbo_plat['Platform'].str.replace('platforms_','')\n",
    "hbo_plat['Platform']=hbo_plat['Platform'].str.replace(' ','')"
   ]
  },
  {
   "cell_type": "code",
   "execution_count": 21,
   "id": "c1bd4b87",
   "metadata": {},
   "outputs": [
    {
     "data": {
      "image/png": "[encoded data removed]",
      "text/plain": [
       "<Figure size 1008x288 with 1 Axes>"
      ]
     },
     "metadata": {
      "needs_background": "light"
     },
     "output_type": "display_data"
    }
   ],
   "source": [
    "plt.figure(figsize=(14,4))\n",
    "sns.countplot(x=hbo_plat['Platform'],order=hbo_plat['Platform'].value_counts().index)\n",
    "plt.xticks(rotation=90)\n",
    "plt.show()"
   ]
  },
  {
   "cell_type": "code",
   "execution_count": 22,
   "id": "d96d4921",
   "metadata": {},
   "outputs": [
    {
     "data": {
      "image/png": "[encoded data removed]",
      "text/plain": [
       "<Figure size 1008x288 with 2 Axes>"
      ]
     },
     "metadata": {
      "needs_background": "light"
     },
     "output_type": "display_data"
    }
   ],
   "source": [
    "plt.figure(figsize=(14,4))\n",
    "hbo_all=hbo.sort_values('imdb_score',ascending=False).iloc[:,:]\n",
    "plt.subplot(1, 2, 1)\n",
    "plt.title('Whole Dataset')\n",
    "sns.countplot(x=hbo_all.rating)\n",
    "\n",
    "hbo_30=hbo.sort_values('imdb_score',ascending=False).iloc[:30,:]\n",
    "plt.subplot(1, 2, 2)\n",
    "plt.title('Top 30 films(according to imdb_score)')\n",
    "sns.countplot(x=hbo_30.rating)\n",
    "plt.subplots_adjust(left=0.1,bottom=0.1, right=0.9,top=0.9,wspace=0.2,hspace=0.4)"
   ]
  },
  {
   "cell_type": "markdown",
   "id": "e72483ff",
   "metadata": {},
   "source": [
    "R/TV-MA - This program is intended to be viewed by mature, adult audiences and may be unsuitable for children under 17.\n",
    "\n",
    "PG/TV-PG - This program contains material that parents may find unsuitable for younger children. Parental guidance is recommended.\n",
    "\n",
    "G/TV-G - This program is suitable for all ages.\n",
    "\n",
    "PG-13/TV-14 - This program may be unsuitable for children under 14 years of age."
   ]
  },
  {
   "cell_type": "code",
   "execution_count": 23,
   "id": "fb993e2f",
   "metadata": {},
   "outputs": [
    {
     "data": {
      "text/plain": [
       "array([<AxesSubplot:xlabel='year'>, <AxesSubplot:xlabel='year'>,\n",
       "       <AxesSubplot:xlabel='year'>, <AxesSubplot:xlabel='year'>],\n",
       "      dtype=object)"
      ]
     },
     "execution_count": 23,
     "metadata": {},
     "output_type": "execute_result"
    },
    {
     "data": {
      "image/png": "[encoded data removed]",
      "text/plain": [
       "<Figure size 432x288 with 4 Axes>"
      ]
     },
     "metadata": {
      "needs_background": "light"
     },
     "output_type": "display_data"
    }
   ],
   "source": [
    "hbo[['genres_Anime','genres_Stand_up_Talk','genres_LGBTQ','genres_Thriller','year']].groupby('year').agg(sum).plot.line(subplots=True)"
   ]
  },
  {
   "cell_type": "code",
   "execution_count": 24,
   "id": "9a833118",
   "metadata": {},
   "outputs": [
    {
     "data": {
      "text/plain": [
       "<AxesSubplot:xlabel='year'>"
      ]
     },
     "execution_count": 24,
     "metadata": {},
     "output_type": "execute_result"
    },
    {
     "data": {
      "image/png": "[encoded data removed]",
      "text/plain": [
       "<Figure size 432x288 with 1 Axes>"
      ]
     },
     "metadata": {
      "needs_background": "light"
     },
     "output_type": "display_data"
    }
   ],
   "source": [
    "hbo[['platforms_netflix','platforms_amazon_prime','year']].groupby('year').agg(sum).plot.line()"
   ]
  },
  {
   "cell_type": "markdown",
   "id": "7256a22a",
   "metadata": {},
   "source": [
    "This graph shows that amazon_prime has added(or we can say invested) more movies from the very past than netflix has added\n",
    "\n",
    "The year shows the launch year of the movie ,not when it is added."
   ]
  },
  {
   "cell_type": "code",
   "execution_count": 25,
   "id": "ed6372b8",
   "metadata": {},
   "outputs": [
    {
     "data": {
      "text/plain": [
       "Text(0.5, 1.0, 'Empirical Cummulative distribution function')"
      ]
     },
     "execution_count": 25,
     "metadata": {},
     "output_type": "execute_result"
    },
    {
     "data": {
      "image/png": "[encoded data removed]",
      "text/plain": [
       "<Figure size 464.1x360 with 1 Axes>"
      ]
     },
     "metadata": {},
     "output_type": "display_data"
    },
    {
     "data": {
      "image/png": "[encoded data removed]",
      "text/plain": [
       "<Figure size 360x360 with 1 Axes>"
      ]
     },
     "metadata": {},
     "output_type": "display_data"
    }
   ],
   "source": [
    "sns.set()\n",
    "sns.displot(data=hbo,x='imdb_score',kind='kde',rug=True,hue='rating')\n",
    "plt.title('Kernal Density estimation')\n",
    "sns.displot(data=hbo,x='imdb_score',kind='ecdf')\n",
    "plt.title('Empirical Cummulative distribution function')"
   ]
  },
  {
   "cell_type": "markdown",
   "id": "0df886ae",
   "metadata": {},
   "source": [
    "In kde, we have to calculate the area under the graph between two points to get the proportion/probability of occurence of a number between that range(two numbers).\n",
    "\n",
    "From two graphs we can see that more movies have imdb_score between 6 and 8 (because more area under the curve for kde and higher gradient(means higher density of data points, and if it seems flat which is from 2 to 4 and 9 to 10 ,then density of data points are low) for graph ecdf\n",
    "\n",
    "We use ecdf to calculate the proportion upto a specific number. for example-"
   ]
  },
  {
   "cell_type": "code",
   "execution_count": 26,
   "id": "8127f027",
   "metadata": {},
   "outputs": [
    {
     "name": "stdout",
     "output_type": "stream",
     "text": [
      "62\n"
     ]
    },
    {
     "data": {
      "text/plain": [
       "0.1871604938271605"
      ]
     },
     "execution_count": 26,
     "metadata": {},
     "output_type": "execute_result"
    }
   ],
   "source": [
    "print(hbo.imdb_score.isna().sum())    # 62 na values the imdb_score feature\n",
    "len(hbo[hbo.imdb_score<=6])/(len(hbo)-62)  # here the specific value is 6, whick means proportion upto 6 ,whick is 18.7160%"
   ]
  },
  {
   "cell_type": "code",
   "execution_count": 27,
   "id": "7bf75ec5",
   "metadata": {},
   "outputs": [
    {
     "data": {
      "text/plain": [
       "TV    375\n",
       "Name: type, dtype: int64"
      ]
     },
     "execution_count": 27,
     "metadata": {},
     "output_type": "execute_result"
    }
   ],
   "source": [
    "hbo.type.value_counts()     # 1712 value are na in 'type' column"
   ]
  },
  {
   "cell_type": "code",
   "execution_count": 28,
   "id": "7af954f9",
   "metadata": {},
   "outputs": [
    {
     "data": {
      "text/plain": [
       "<AxesSubplot:xlabel='type', ylabel='count'>"
      ]
     },
     "execution_count": 28,
     "metadata": {},
     "output_type": "execute_result"
    },
    {
     "data": {
      "image/png": "[encoded data removed]",
      "text/plain": [
       "<Figure size 432x288 with 1 Axes>"
      ]
     },
     "metadata": {},
     "output_type": "display_data"
    }
   ],
   "source": [
    "sns.countplot(data=hbo,x='type',hue='rating')"
   ]
  },
  {
   "cell_type": "code",
   "execution_count": null,
   "id": "b5cb1b3c",
   "metadata": {},
   "outputs": [],
   "source": []
  }
 ],
 "metadata": {
  "kernelspec": {
   "display_name": "Python 3",
   "language": "python",
   "name": "python3"
  },
  "language_info": {
   "codemirror_mode": {
    "name": "ipython",
    "version": 3
   },
   "file_extension": ".py",
   "mimetype": "text/x-python",
   "name": "python",
   "nbconvert_exporter": "python",
   "pygments_lexer": "ipython3",
   "version": "3.8.8"
  }
 },
 "nbformat": 4,
 "nbformat_minor": 5
}
